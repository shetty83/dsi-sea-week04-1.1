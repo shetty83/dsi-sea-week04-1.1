{
 "cells": [
  {
   "cell_type": "markdown",
   "metadata": {
    "button": false,
    "deletable": true,
    "new_sheet": false,
    "run_control": {
     "read_only": false
    }
   },
   "source": [
    "<img src=\"http://static.tvtropes.org/pmwiki/pub/images/acslatersitting_1267.jpg\" alt=\"Title\"/>"
   ]
  },
  {
   "cell_type": "markdown",
   "metadata": {
    "button": false,
    "deletable": true,
    "new_sheet": false,
    "run_control": {
     "read_only": false
    }
   },
   "source": [
    "# Hey there fellow student. Come closer. I want to jive with you for a second."
   ]
  },
  {
   "cell_type": "code",
   "execution_count": 1,
   "metadata": {
    "button": false,
    "collapsed": true,
    "deletable": true,
    "new_sheet": false,
    "run_control": {
     "read_only": false
    }
   },
   "outputs": [],
   "source": [
    "# Take a close look at this string!\n",
    "\n",
    "stringy = \"<div> Address: 1234 Fake Lane, FakeFake Faketown New Jersey, 90048 </div>\"\n",
    "\n",
    "# Wouldn't it be nice to easily find information in strings like this?"
   ]
  },
  {
   "cell_type": "markdown",
   "metadata": {
    "button": false,
    "deletable": true,
    "new_sheet": false,
    "run_control": {
     "read_only": false
    }
   },
   "source": [
    "## Well now you can! With regular expressions, you can quickly search through large amounts of data with a simple set of rules! Let's dig in! "
   ]
  },
  {
   "cell_type": "markdown",
   "metadata": {
    "button": false,
    "deletable": true,
    "new_sheet": false,
    "run_control": {
     "read_only": false
    }
   },
   "source": [
    "<img src=\"http://37.media.tumblr.com/tumblr_m8tx99Cu2x1rdutw3o1_500.gif\" alt=\"Title\" style=\"width: 250px\"/>"
   ]
  },
  {
   "cell_type": "code",
   "execution_count": 3,
   "metadata": {
    "button": false,
    "collapsed": false,
    "deletable": true,
    "new_sheet": false,
    "run_control": {
     "read_only": false
    }
   },
   "outputs": [
    {
     "name": "stdout",
     "output_type": "stream",
     "text": [
      "<\n"
     ]
    }
   ],
   "source": [
    "import re\n",
    "\n",
    "# The . matches any character except a newline (\\n)\n",
    "m = re.search('.', stringy)\n",
    "\n",
    "# m.group() contains an array of all of our matches. I wonder what this does...\n",
    "print m.group()"
   ]
  },
  {
   "cell_type": "code",
   "execution_count": 4,
   "metadata": {
    "button": false,
    "collapsed": false,
    "deletable": true,
    "new_sheet": false,
    "run_control": {
     "read_only": false
    }
   },
   "outputs": [
    {
     "name": "stdout",
     "output_type": "stream",
     "text": [
      "<di\n"
     ]
    }
   ],
   "source": [
    "# The ^ matches the start of a string\n",
    "m = re.search('^...', stringy)\n",
    "\n",
    "# Try to guess. What will this print?\n",
    "print m.group()"
   ]
  },
  {
   "cell_type": "code",
   "execution_count": 5,
   "metadata": {
    "button": false,
    "collapsed": false,
    "deletable": true,
    "new_sheet": false,
    "run_control": {
     "read_only": false
    }
   },
   "outputs": [
    {
     "name": "stdout",
     "output_type": "stream",
     "text": [
      "iv>\n"
     ]
    }
   ],
   "source": [
    "# Gnarly dude! You've got this down! Let's add some more!\n",
    "# The $ matches the end of a string\n",
    "m = re.search('...$', stringy)\n",
    "\n",
    "# Try to guess. What will this print?\n",
    "print m.group()"
   ]
  },
  {
   "cell_type": "code",
   "execution_count": 6,
   "metadata": {
    "button": false,
    "collapsed": false,
    "deletable": true,
    "new_sheet": false,
    "run_control": {
     "read_only": false
    }
   },
   "outputs": [
    {
     "name": "stdout",
     "output_type": "stream",
     "text": [
      "<div> Address: 1234 Fake Lane, FakeFake Faketown New Jersey, 90048 </div>\n"
     ]
    }
   ],
   "source": [
    "# The * matches 0 - many repetitions of a string\n",
    "m = re.search('<div>.*x*', stringy)\n",
    "\n",
    "# Try to guess. What will this print?\n",
    "print m.group()"
   ]
  },
  {
   "cell_type": "code",
   "execution_count": null,
   "metadata": {
    "collapsed": true
   },
   "outputs": [],
   "source": []
  },
  {
   "cell_type": "code",
   "execution_count": 7,
   "metadata": {
    "button": false,
    "collapsed": false,
    "deletable": true,
    "new_sheet": false,
    "run_control": {
     "read_only": false
    }
   },
   "outputs": [
    {
     "name": "stdout",
     "output_type": "stream",
     "text": [
      "<div> Address: 1234 Fake Lane, FakeFake Fake\n"
     ]
    }
   ],
   "source": [
    "# The + matches 1 - many repetitions of a string\n",
    "m = re.search('<div>.*Fake+', stringy)\n",
    "\n",
    "# Try to guess. What will this print?\n",
    "print m.group()"
   ]
  },
  {
   "cell_type": "code",
   "execution_count": 8,
   "metadata": {
    "collapsed": false
   },
   "outputs": [
    {
     "name": "stdout",
     "output_type": "stream",
     "text": [
      "<div> Address: 1234 Fake Lane, FakeFake Fake\n"
     ]
    }
   ],
   "source": [
    "# The + matches 1 - many repetitions of a string\n",
    "m = re.search('.*Fake+', stringy)\n",
    "\n",
    "# Try to guess. What will this print?\n",
    "print m.group()"
   ]
  },
  {
   "cell_type": "code",
   "execution_count": 10,
   "metadata": {
    "button": false,
    "collapsed": false,
    "deletable": true,
    "new_sheet": false,
    "run_control": {
     "read_only": false
    }
   },
   "outputs": [
    {
     "name": "stdout",
     "output_type": "stream",
     "text": [
      "<div> Address: 1234 Fake Lane, FakeFake Fake\n",
      "<div> Address: 1234 Fake\n"
     ]
    }
   ],
   "source": [
    "# The ? matches 0 - 1 repetitions of a string\n",
    "m = re.search('.*Fake?', stringy)\n",
    "\n",
    "# Try to guess. What will this print?\n",
    "print m.group()\n",
    "\n",
    "# If you combine it with the . and * rules, you can return the first instance of a pattern match\n",
    "m = re.search('(.*?)Fake', stringy)\n",
    "\n",
    "# Try to guess. What will this print?\n",
    "print m.group()"
   ]
  },
  {
   "cell_type": "code",
   "execution_count": 11,
   "metadata": {
    "button": false,
    "collapsed": false,
    "deletable": true,
    "new_sheet": false,
    "run_control": {
     "read_only": false
    }
   },
   "outputs": [
    {
     "name": "stdout",
     "output_type": "stream",
     "text": [
      "Fake Lane, FakeFake Faketown New Jersey, 90048 </div>\n"
     ]
    }
   ],
   "source": [
    "# Use () to find whole words, phrases, or regexs\n",
    "m = re.search('(Fake)? Lane.*', stringy)\n",
    "\n",
    "# Try to guess. What will this print?\n",
    "print m.group()"
   ]
  },
  {
   "cell_type": "code",
   "execution_count": 12,
   "metadata": {
    "button": false,
    "collapsed": false,
    "deletable": true,
    "new_sheet": false,
    "run_control": {
     "read_only": false
    }
   },
   "outputs": [
    {
     "name": "stdout",
     "output_type": "stream",
     "text": [
      "<div> Address: 1234 Fake Lane, FakeFake\n"
     ]
    }
   ],
   "source": [
    "# This regex: Fake{2,3} matches 2 to 3 copies of the preceding string\n",
    "m = re.search('.*(Fake){2,3}', stringy)\n",
    "\n",
    "# Try to guess. What will this print?\n",
    "print m.group()"
   ]
  },
  {
   "cell_type": "code",
   "execution_count": 17,
   "metadata": {
    "button": false,
    "collapsed": false,
    "deletable": true,
    "new_sheet": false,
    "run_control": {
     "read_only": false
    }
   },
   "outputs": [
    {
     "name": "stdout",
     "output_type": "stream",
     "text": [
      "<div> Address: 1234 Fake Lane, FakeFa\n",
      "<div> Address: 1234 Fake Lane, FakeFake Faketown New Jersey, 90048 </div>\n"
     ]
    }
   ],
   "source": [
    "# Use [] to indicate a set of characters\n",
    "m = re.search('.*?FakeF[a-z]?', stringy)\n",
    "\n",
    "# Try to guess. What will this print?\n",
    "print m.group()\n",
    "print stringy"
   ]
  },
  {
   "cell_type": "code",
   "execution_count": 19,
   "metadata": {
    "collapsed": false
   },
   "outputs": [
    {
     "name": "stdout",
     "output_type": "stream",
     "text": [
      "<div> Address: 1234 Fake Lane, FakeFake\n",
      "<div> Address: 1234 Fake Lane, FakeFake Faketown New Jersey, 90048 </div>\n"
     ]
    }
   ],
   "source": [
    "# Use [] to indicate a set of characters\n",
    "m = re.search('.*?FakeF[a-z]{2,3}', stringy)\n",
    "\n",
    "# Try to guess. What will this print?\n",
    "print m.group()\n",
    "print stringy"
   ]
  },
  {
   "cell_type": "code",
   "execution_count": 26,
   "metadata": {
    "button": false,
    "collapsed": false,
    "deletable": true,
    "new_sheet": false,
    "run_control": {
     "read_only": false
    }
   },
   "outputs": [
    {
     "name": "stdout",
     "output_type": "stream",
     "text": [
      "FakeF\n",
      "<div> Address: 1234 Fake Lane, FakeFake Faket\n"
     ]
    }
   ],
   "source": [
    "# Use | to denote \"or\" expressions\n",
    "m = re.search('Fake[F|t]', stringy)\n",
    "\n",
    "# Try to guess. What will this print?\n",
    "print m.group()\n",
    "\n",
    "m = re.search('.*Fake[F|t]?', stringy)\n",
    "\n",
    "# Try to guess. What will this print?\n",
    "print m.group()"
   ]
  },
  {
   "cell_type": "code",
   "execution_count": 28,
   "metadata": {
    "button": false,
    "collapsed": false,
    "deletable": true,
    "new_sheet": false,
    "run_control": {
     "read_only": false
    }
   },
   "outputs": [
    {
     "name": "stdout",
     "output_type": "stream",
     "text": [
      " Fake L\n"
     ]
    }
   ],
   "source": [
    "# \\b: matches empty string at beginning or end of word\n",
    "m = re.search('..\\b*Fake\\b*..', stringy)\n",
    "\n",
    "# Try to guess. What will this print?\n",
    "print m.group()"
   ]
  },
  {
   "cell_type": "code",
   "execution_count": 29,
   "metadata": {
    "button": false,
    "collapsed": false,
    "deletable": true,
    "new_sheet": false,
    "run_control": {
     "read_only": false
    }
   },
   "outputs": [
    {
     "name": "stdout",
     "output_type": "stream",
     "text": [
      "1234\n"
     ]
    }
   ],
   "source": [
    "# \\d: matches a digit character\n",
    "m = re.search('\\d+', stringy)\n",
    "\n",
    "# Try to guess. What will this print?\n",
    "print m.group()"
   ]
  },
  {
   "cell_type": "code",
   "execution_count": 30,
   "metadata": {
    "button": false,
    "collapsed": false,
    "deletable": true,
    "new_sheet": false,
    "run_control": {
     "read_only": false
    }
   },
   "outputs": [
    {
     "name": "stdout",
     "output_type": "stream",
     "text": [
      "<div> Address: \n"
     ]
    }
   ],
   "source": [
    "# \\d: matches a non-digit character\n",
    "m = re.search('\\D+', stringy)\n",
    "\n",
    "# Try to guess. What will this print?\n",
    "print m.group()"
   ]
  },
  {
   "cell_type": "code",
   "execution_count": 35,
   "metadata": {
    "button": false,
    "collapsed": false,
    "deletable": true,
    "new_sheet": false,
    "run_control": {
     "read_only": false
    }
   },
   "outputs": [
    {
     "name": "stdout",
     "output_type": "stream",
     "text": [
      "v> Ad\n"
     ]
    }
   ],
   "source": [
    "# \\s: matches any whitespace character\n",
    "m = re.search('..\\s+..', stringy)\n",
    "\n",
    "# Try to guess. What will this print?\n",
    "print m.group()"
   ]
  },
  {
   "cell_type": "code",
   "execution_count": 37,
   "metadata": {
    "button": false,
    "collapsed": false,
    "deletable": true,
    "new_sheet": false,
    "run_control": {
     "read_only": false
    }
   },
   "outputs": [
    {
     "name": "stdout",
     "output_type": "stream",
     "text": [
      "<div> A\n"
     ]
    }
   ],
   "source": [
    "# \\S: matches any non-whitespace character\n",
    "m = re.search('\\S+', stringy)\n",
    "\n",
    "# Try to guess. What will this print?\n",
    "print m.group()"
   ]
  },
  {
   "cell_type": "code",
   "execution_count": 38,
   "metadata": {
    "button": false,
    "collapsed": false,
    "deletable": true,
    "new_sheet": false,
    "run_control": {
     "read_only": false
    }
   },
   "outputs": [
    {
     "name": "stdout",
     "output_type": "stream",
     "text": [
      "div\n"
     ]
    }
   ],
   "source": [
    "# \\w: matches any alphanumeric character\n",
    "m = re.search('\\w+', stringy)\n",
    "\n",
    "# Try to guess. What will this print?\n",
    "print m.group()"
   ]
  },
  {
   "cell_type": "code",
   "execution_count": 39,
   "metadata": {
    "button": false,
    "collapsed": false,
    "deletable": true,
    "new_sheet": false,
    "run_control": {
     "read_only": false
    }
   },
   "outputs": [
    {
     "name": "stdout",
     "output_type": "stream",
     "text": [
      "<\n"
     ]
    }
   ],
   "source": [
    "# \\W: matches any non-alphanumeric character\n",
    "m = re.search('\\W+', stringy)\n",
    "\n",
    "# Try to guess. What will this print?\n",
    "print m.group()"
   ]
  },
  {
   "cell_type": "code",
   "execution_count": 49,
   "metadata": {
    "button": false,
    "collapsed": false,
    "deletable": true,
    "new_sheet": false,
    "run_control": {
     "read_only": false
    }
   },
   "outputs": [
    {
     "name": "stdout",
     "output_type": "stream",
     "text": [
      "[]\n"
     ]
    }
   ],
   "source": [
    "# Use findall to return all results\n",
    "m = re.findall('Fake\\w+\\s?', stringy)\n",
    "\n",
    "# Try to guess. What will this print?\n",
    "print m"
   ]
  },
  {
   "cell_type": "markdown",
   "metadata": {
    "button": false,
    "deletable": true,
    "new_sheet": false,
    "run_control": {
     "read_only": false
    }
   },
   "source": [
    "<img src=\"http://31.media.tumblr.com/b495222ee1e2df2b1a478c2d5a58df5f/tumblr_mlfep4fByu1rd6wt2o1_500.gif\" alt=\"Title\" style=\"width: 250px\"/>"
   ]
  },
  {
   "cell_type": "markdown",
   "metadata": {
    "button": false,
    "deletable": true,
    "new_sheet": false,
    "run_control": {
     "read_only": false
    }
   },
   "source": [
    "### You're gnarly bro! Let's generate some data! Run the next cell."
   ]
  },
  {
   "cell_type": "code",
   "execution_count": 66,
   "metadata": {
    "button": false,
    "collapsed": false,
    "deletable": true,
    "new_sheet": false,
    "run_control": {
     "read_only": false
    }
   },
   "outputs": [
    {
     "name": "stdout",
     "output_type": "stream",
     "text": [
      "boxy iconoclast longitude rabbet brainy today'll duel culture propos parquet swipe ultimate ladybug \n"
     ]
    }
   ],
   "source": [
    "import requests\n",
    "import random\n",
    "import numpy as np\n",
    "\n",
    "word_site = \"http://svnweb.freebsd.org/csrg/share/dict/words?view=co&content-type=text/plain\"\n",
    "\n",
    "response = requests.get(word_site)\n",
    "WORDS = response.content.splitlines()\n",
    "not_proper = [word for word in WORDS if not word[0].isupper()]\n",
    "\n",
    "class formWords:\n",
    "    def __init__(self, not_proper):\n",
    "        self.not_proper = not_proper\n",
    "\n",
    "    def randomNonProper(self):\n",
    "        return self.not_proper[np.random.randint(0,len(self.not_proper))]\n",
    "        \n",
    "    def generateText(self, blog_length):\n",
    "        blog = []\n",
    "        for x in range(blog_length):\n",
    "            blog += [self.randomNonProper()]\n",
    "    \n",
    "        return \" \".join(blog)\n",
    "\n",
    "words = formWords(not_proper)\n",
    "\n",
    "#This is the data variable\n",
    "data = words.generateText(500)\n",
    "print data[:100]"
   ]
  },
  {
   "cell_type": "markdown",
   "metadata": {
    "button": false,
    "deletable": true,
    "new_sheet": false,
    "run_control": {
     "read_only": false
    }
   },
   "source": [
    "### Good golly! That sure is alot of data. Hopefully regular expressions can help us through this jam..."
   ]
  },
  {
   "cell_type": "code",
   "execution_count": 73,
   "metadata": {
    "button": false,
    "collapsed": false,
    "deletable": true,
    "new_sheet": false,
    "run_control": {
     "read_only": false
    }
   },
   "outputs": [
    {
     "name": "stdout",
     "output_type": "stream",
     "text": [
      "['cormorant mantissa', 'salesman', 'artillery manslaughter', 'highboy mantle']\n"
     ]
    }
   ],
   "source": [
    "# Find all the words with 'man' in them\n",
    "m = re.findall('\\w*.man\\w*', data)\n",
    "\n",
    "print m"
   ]
  },
  {
   "cell_type": "code",
   "execution_count": 77,
   "metadata": {
    "button": false,
    "collapsed": false,
    "deletable": true,
    "new_sheet": false,
    "run_control": {
     "read_only": false
    }
   },
   "outputs": [
    {
     "name": "stdout",
     "output_type": "stream",
     "text": [
      "['altogether', 'abstain', 'asylum', 'appellate', 'aloe', 'augur', 'aspect', 'arrack', 'abridgment', 'await', 'argo', 'aphorism', 'anthropomorphic', 'assai', 'amaze', 'admixture', 'attentive', 'athletic', 'alluvial', 'archery', 'awl', 'appear', 'alkaloid', 'accelerate', 'addressee', 'accrue', 'around', 'across', 'atrocious', 'arum', 'antisemitic', 'aster', 'anticipate', 'ampersand', 'alongside', 'artillery', 'anamorphic', 'arabesque', 'adhesive']\n"
     ]
    }
   ],
   "source": [
    "# Find all the words that begin with an 'a'\n",
    "m = re.findall('\\s+(a\\w*)', data)\n",
    "\n",
    "print m"
   ]
  },
  {
   "cell_type": "code",
   "execution_count": 91,
   "metadata": {
    "button": false,
    "collapsed": false,
    "deletable": true,
    "new_sheet": false,
    "run_control": {
     "read_only": false
    }
   },
   "outputs": [
    {
     "name": "stdout",
     "output_type": "stream",
     "text": [
      "['longitude', 'today', 'moth', 'doesn', 'horde', 'postmark', 'bolivar', 'cola', 'portico', 'toe', 'fosterite', 'sonorant', 'commodore', 'contradictory', 'cool', 'collision', 'vodka', 'don', 'copperas', 'comfort', 'moribund', 'covariate', 'coarsen', 'hold', 'morbid', 'cohere', 'corset', 'hospital', 'hollandaise', 'contralto', 'composition', 'longhand', 'countenance', 'housebreak', 'nova', 'bound', 'polio', 'concertina', 'postorder', 'boatmen', 'counterpart', 'goad', 'woodlot', 'cowbird', 'donkey', 'cotoneaster', 'routine', 'cormorant', 'socket', 'worm', 'confuse', 'hockey', 'topaz', 'commensurate', 'bold', 'forum', 'monetary', 'contagion', 'lotus', 'bodhisattva', 'hourglass', 'loll', 'lordosis', 'hole', 'codify', 'rooky']\n"
     ]
    }
   ],
   "source": [
    "# Find all the words with an 'o' as the second letter\n",
    "m = re.findall('\\s(\\wo\\w*)', data)\n",
    "\n",
    "print m"
   ]
  },
  {
   "cell_type": "code",
   "execution_count": 96,
   "metadata": {
    "button": false,
    "collapsed": false,
    "deletable": true,
    "new_sheet": false,
    "run_control": {
     "read_only": false
    }
   },
   "outputs": [
    {
     "name": "stdout",
     "output_type": "stream",
     "text": [
      "['iconoclast', 'longitude', 'today', 'culture', 'propos', 'swipe', 'ultimate', 'stereography', 'grandiloquent', 'late', 'epigenetic', 'dehumidify', 'cyclorama', 'impressive', 'crucify', 'quadrature', 'hydrofluoric', 'shore', 'impetus', 'sequential', 'resistive', 'altogether', 'spirit', 'infuse', 'silane', 'denominate', 'lunchtime', 'heliocentric', 'bolivar', 'suspicion', 'cola', 'vestigial', 'portico', 'temporal', 'decision', 'calumny', 'repelling', 'fosterite', 'sonorant', 'bloke', 'pipetting', 'appellate', 'capsize', 'quietus', 'commodore', 'fadeout', 'contradictory', 'quotation', 'aloe', 'incontrovertible', 'wire', 'augur', 'passageway', 'dysprosium', 'collision', 'lunate', 'derogate', 'sliver', 'mesmeric', 'paramagnetic', 'dichotomy', 'unity', 'belie', 'await', 'candelabra', 'retinue', 'sequitur', 'copperas', 'sclerosis', 'cartilage', 'rune', 'indecent', 'mastodon', 'rude', 'extradite', 'blueback', 'paraphernalia', 'nucleolus', 'aphorism', 'gigacycle', 'hide', 'transvestite', 'anthropomorphic', 'moribund', 'covariate', 'dyadic', 'ceremonial', 'receipt', 'cranium', 'strychnine', 'exclamatory', 'businesswomen', 'warehouse', 'metalwork', 'brigade', 'amaze', 'eject', 'processor', 'cohere', 'ravenous', 'viscera', 'fivefold', 'edelweiss', 'grammarian', 'delicious', 'admixture', 'surcease', 'latitude', 'lifestyle', 'oaken', 'hospital', 'halite', 'waterside', 'indecisive', 'hollandaise', 'biometry', 'composition', 'viscoelastic', 'chlorophyll', 'lepidolite', 'attentive', 'countenance', 'birefringent', 'athletic', 'grape', 'erasable', 'cavil', 'housebreak', 'nova', 'candlelight', 'indiscriminate', 'revisal', 'alluvial', 'sunshine', 'pacemake', 'sequester', 'methylene', 'germicidal', 'dive', 'polio', 'concertina', 'birefringent', 'viral', 'ripen', 'alkaloid', 'municipal', 'indigo', 'stagecoach', 'plutonium', 'ruminant', 'sinkhole', 'degum', 'accelerate', 'turbulent', 'inscrutable', 'backstage', 'cotoneaster', 'bygone', 'pantomimic', 'routine', 'ebony', 'pyrite', 'inexcusable', 'trite', 'cormorant', 'barrage', 'hesitater', 'revelatory', 'around', 'diabetes', 'desultory', 'chromosphere', 'mayor', 'waterfall', 'survive', 'burial', 'atrocious', 'tile', 'tecum', 'taxonomy', 'editorial', 'balustrade', 'invidious', 'ironside', 'laurel', 'treason', 'babe', 'davit', 'icosahedral', 'biochemic', 'confuse', 'patroness', 'topaz', 'sealant', 'disparate', 'mercuric', 'diversion', 'arum', 'salesman', 'enumerate', 'antisemitic', 'extramarital', 'interlude', 'implacable', 'onion', 'tamarisk', 'opal', 'commensurate', 'inasmuch', 'technique', 'anticipate', 'career', 'inconsolable', 'forum', 'cholinesterase', 'distributive', 'firearm', 'alongside', 'supervisory', 'monetary', 'statewide', 'genii', 'demote', 'matrimony', 'seafare', 'impassive', 'retardant', 'circulant', 'leonine', 'dine', 'contagion', 'deletion', 'irretrievable', 'lotus', 'chapati', 'anamorphic', 'reliant', 'optometry', 'ordinate', 'bodhisattva', 'snakebird', 'echinoderm', 'nausea', 'trefoil', 'imagen', 'arabesque', 'burdensome', 'bewitch', 'catalyst', 'lordosis', 'oenology', 'hole', 'jetliner', 'adhesive', 'specie', 'emulate', 'barbaric', 'philanthropic', 'subterranean', 'codify', 'dandelion']\n"
     ]
    },
    {
     "data": {
      "text/plain": [
       "261"
      ]
     },
     "execution_count": 96,
     "metadata": {},
     "output_type": "execute_result"
    }
   ],
   "source": [
    "# Find all the words with vowels surrounding one consonant\n",
    "m = re.findall('\\s(\\w*[aeiou][b-df-hj-np-tv-z][aeiou]\\w*)', data)\n",
    "\n",
    "print m"
   ]
  },
  {
   "cell_type": "code",
   "execution_count": 110,
   "metadata": {
    "button": false,
    "collapsed": false,
    "deletable": true,
    "new_sheet": false,
    "run_control": {
     "read_only": false
    }
   },
   "outputs": [
    {
     "name": "stdout",
     "output_type": "stream",
     "text": [
      "['ladybug', 'saprophytic', 'skyward', 'stereography', 'hatchery', 'lynch', 'waddle', 'cyclorama', 'impressive', 'hydrofluoric', 'screenful', 'postmark', 'abstain', 'lunchtime', 'heliocentric', 'asylum', 'birdseed', 'calumny', 'swanky', 'contradictory', 'captaincy', 'incontrovertible', 'dysprosium', 'clockwatcher', 'windfall', 'abridgment', 'disgruntle', 'sclerosis', 'pantheism', 'extradite', 'zilch', 'bangle', 'trytophan', 'gigacycle', 'transvestite', 'anthropomorphic', 'splotchy', 'cartography', 'strychnine', 'exclamatory', 'marry', 'businesswomen', 'tallyho', 'fledgling', 'lifestyle', 'funny', 'thirtyfold', 'contralto', 'biometry', 'nightshirt', 'chlorophyll', 'longhand', 'bumpkin', 'thirsty', 'athletic', 'candlelight', 'indiscriminate', 'sunshine', 'archery', 'methylene', 'hawthorn', 'barberry', 'bearberry', 'district', 'strontium', 'sinkhole', 'plucky', 'inscrutable', 'addressee', 'backstage', 'bygone', 'accrue', 'pyrite', 'eggshell', 'pantheon', 'dandy', 'chromosphere', 'bryophyte', 'rankle', 'circumspect', 'balustrade', 'frazzle', 'bursty', 'cutthroat', 'splutter', 'extramarital', 'implacable', 'pinscher', 'midnight', 'embassy', 'sundry', 'technique', 'distributive', 'alongside', 'ruddy', 'thunderstorm', 'manslaughter', 'wispy', 'hindrance', 'anamorphic', 'optometry', 'wingbeat', 'bodhisattva', 'hourglass', 'psychiatry', 'bewitch', 'catalyst', 'highboy', 'mantle', 'eelgrass', 'philanthropic']\n"
     ]
    },
    {
     "data": {
      "text/plain": [
       "111"
      ]
     },
     "execution_count": 110,
     "metadata": {},
     "output_type": "execute_result"
    }
   ],
   "source": [
    "# Find all the words with three consecutive consonants\n",
    "# m = re.findall('\\s(\\w*[b-df-hj-np-tv-z][b-df-hj-np-tv-z][b-df-hj-np-tv-z]\\w*)', data)\n",
    "m = re.findall('\\s(\\w*[b-df-hj-np-tv-z]{3}\\w*)', data)\n",
    "print m\n",
    "len(m)"
   ]
  },
  {
   "cell_type": "code",
   "execution_count": 116,
   "metadata": {
    "button": false,
    "collapsed": false,
    "deletable": true,
    "new_sheet": false,
    "run_control": {
     "read_only": false
    },
    "scrolled": true
   },
   "outputs": [
    {
     "name": "stdout",
     "output_type": "stream",
     "text": [
      "['ultimate', 'impressive', 'infuse', 'appellate', 'aloe', 'incontrovertible', 'extradite', 'argo', 'assai', 'amaze', 'admixture', 'indecisive', 'attentive', 'erasable', 'indiscriminate', 'indigo', 'accelerate', 'inscrutable', 'accrue', 'inexcusable', 'ironside', 'expiable', 'enumerate', 'interlude', 'insurmountable', 'anticipate', 'inconsolable', 'alongside', 'intangible', 'impassive', 'irretrievable', 'ordinate', 'arabesque', 'adhesive', 'emulate']\n"
     ]
    },
    {
     "data": {
      "text/plain": [
       "35"
      ]
     },
     "execution_count": 116,
     "metadata": {},
     "output_type": "execute_result"
    }
   ],
   "source": [
    "# Find all the words that begin and end with a vowel\n",
    "m = re.findall('\\s([aeiou]\\w*[aeiou])\\s', data)\n",
    "\n",
    "print m\n",
    "len(m)"
   ]
  },
  {
   "cell_type": "code",
   "execution_count": 122,
   "metadata": {
    "button": false,
    "collapsed": false,
    "deletable": true,
    "new_sheet": false,
    "run_control": {
     "read_only": false
    }
   },
   "outputs": [
    {
     "data": {
      "text/plain": [
       "['swipe ultimate',\n",
       " 'skyward olden',\n",
       " 'late epigenetic',\n",
       " 'cyclorama impressive',\n",
       " 'shore impetus',\n",
       " 'resistive altogether',\n",
       " 'spirit infuse',\n",
       " 'vestigial asylum',\n",
       " 'pipetting appellate',\n",
       " 'quotation aloe',\n",
       " 'guffaw augur',\n",
       " 'dysprosium extension',\n",
       " 'clockwatcher aspect',\n",
       " 'chassis abridgment',\n",
       " 'rasp await',\n",
       " 'rune indecent',\n",
       " 'meat extradite',\n",
       " 'paraphernalia argo',\n",
       " 'lawful aphorism',\n",
       " 'transvestite anthropomorphic',\n",
       " 'dyadic assai',\n",
       " 'strychnine exclamatory',\n",
       " 'plugboard amaze',\n",
       " 'fivefold edelweiss',\n",
       " 'delicious admixture',\n",
       " 'lifestyle oaken',\n",
       " 'penguin indecisive',\n",
       " 'bumpkin attentive',\n",
       " 'bronze athletic',\n",
       " 'grape erasable',\n",
       " 'candlelight indiscriminate',\n",
       " 'tusk archery',\n",
       " 'hawthorn awl',\n",
       " 'bearberry appear',\n",
       " 'burgeon alkaloid',\n",
       " 'degum accelerate',\n",
       " 'donkey inscrutable',\n",
       " 'spec ebony',\n",
       " 'pyrite inexcusable',\n",
       " 'revelatory around',\n",
       " 'rankle across',\n",
       " 'taxonomy editorial',\n",
       " 'balustrade invidious',\n",
       " 'davit icosahedral',\n",
       " 'diversion arum',\n",
       " 'cutthroat expiable',\n",
       " 'salesman enumerate',\n",
       " 'list extramarital',\n",
       " 'tamarisk opal',\n",
       " 'commensurate aster',\n",
       " 'bold embassy',\n",
       " 'technique anticipate',\n",
       " 'zeal ampersand',\n",
       " 'firearm alongside',\n",
       " 'seafare impassive',\n",
       " 'circulant artillery',\n",
       " 'hindrance irretrievable',\n",
       " 'chapati anamorphic',\n",
       " 'reliant optometry',\n",
       " 'vernier embargoes',\n",
       " 'hourglass echinoderm',\n",
       " 'trefoil imagen',\n",
       " 'lordosis oenology',\n",
       " 'jetliner adhesive',\n",
       " 'barbaric eelgrass']"
      ]
     },
     "execution_count": 122,
     "metadata": {},
     "output_type": "execute_result"
    }
   ],
   "source": [
    "# Find two words such that the first begins with a consonant and the second begins with a vowel\n",
    "re.findall('\\s+([b-df-hj-np-tv-z]\\w*\\s[aeiou]\\w*)\\s+', data)"
   ]
  },
  {
   "cell_type": "code",
   "execution_count": null,
   "metadata": {
    "button": false,
    "collapsed": true,
    "deletable": true,
    "new_sheet": false,
    "run_control": {
     "read_only": false
    }
   },
   "outputs": [],
   "source": []
  }
 ],
 "metadata": {
  "anaconda-cloud": {},
  "kernelspec": {
   "display_name": "Python [default]",
   "language": "python",
   "name": "python2"
  },
  "language_info": {
   "codemirror_mode": {
    "name": "ipython",
    "version": 2
   },
   "file_extension": ".py",
   "mimetype": "text/x-python",
   "name": "python",
   "nbconvert_exporter": "python",
   "pygments_lexer": "ipython2",
   "version": "2.7.12"
  }
 },
 "nbformat": 4,
 "nbformat_minor": 0
}
